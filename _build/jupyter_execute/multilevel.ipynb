{
 "cells": [
  {
   "cell_type": "markdown",
   "id": "7fbbd152",
   "metadata": {},
   "source": [
    "# Time Evolution in a Two-Level Quantum System"
   ]
  },
  {
   "cell_type": "markdown",
   "id": "b2e8fda5",
   "metadata": {},
   "source": [
    "## 🔸 First Application: Dynamics of a Two-State System\n",
    "\n",
    "As a first application of the formalism we have developed — including Hilbert spaces, linear operators, and time evolution — we now consider the dynamics of a **two-state quantum system**.\n",
    "\n",
    "Such a system can represent many physically important scenarios:\n",
    "\n",
    "- A **qubit** in quantum information theory,\n",
    "- A **spin-1/2 particle** (such as an electron) in a magnetic field,\n",
    "- A **two-level atom** interacting with an electromagnetic field,\n",
    "- A **molecule** modeled by two coupled electronic states.\n",
    "\n",
    "The Hilbert space of this system is the two-dimensional complex vector space $\\mathbb{C}^2$, and the states are represented as linear combinations of two orthonormal basis states:\n",
    "\n",
    "$$\n",
    "|\\psi(t)\\rangle = c_1(t) |1\\rangle + c_2(t) |2\\rangle\n",
    "$$\n",
    "\n",
    "where $c_1(t), c_2(t) \\in \\mathbb{C}$ are time-dependent amplitudes.\n",
    "\n",
    "---\n",
    "\n",
    "### 🔹 Time Evolution Operator\n",
    "\n",
    "We are interested in solving the **time-dependent Schrödinger equation**:\n",
    "\n",
    "$$\n",
    "i\\hbar \\frac{d}{dt} |\\psi(t)\\rangle = \\hat{H}(t) |\\psi(t)\\rangle\n",
    "$$\n",
    "\n",
    "where $\\hat{H}(t)$ is the **Hamiltonian operator** describing the system.\n",
    "\n",
    "Our first goal will be to **explicitly calculate the time-evolution operator** $\\hat{U}(t)$ satisfying:\n",
    "\n",
    "$$\n",
    "|\\psi(t)\\rangle = \\hat{U}(t) |\\psi(0)\\rangle\n",
    "$$\n",
    "\n",
    "where $\\hat{U}(t)$ encodes the full dynamics of the system from an initial time $t = 0$ to time $t$.\n",
    "\n",
    "---\n",
    "\n",
    "### 🔹 Two Important Cases\n",
    "\n",
    "We will study two physically distinct situations:\n",
    "\n",
    "1. **Resonant Case**  \n",
    "   - The energy difference between the two states matches the driving field frequency exactly.\n",
    "   - This leads to **Rabi oscillations** with maximum population transfer between the states.\n",
    "\n",
    "2. **Non-Resonant Case**  \n",
    "   - The driving field frequency differs from the energy gap between the states (detuning).\n",
    "   - The dynamics are more complex, and the amplitude of oscillations is reduced.\n",
    "\n",
    "Both cases will allow us to visualize fundamental quantum phenomena such as **coherent oscillations**, **population transfer**, and the role of **detuning**.\n",
    "\n",
    "---\n",
    "\n",
    "### 🧠 Why This Example Matters\n",
    "\n",
    "- It illustrates **the full power of the operator formalism**.\n",
    "- It introduces practical methods like **matrix exponentials** and **diagonalization**.\n",
    "- It builds a bridge to important applications such as **quantum optics**, **NMR**, and **quantum computing**.\n",
    "\n"
   ]
  },
  {
   "cell_type": "code",
   "execution_count": null,
   "id": "30be5026",
   "metadata": {},
   "outputs": [],
   "source": []
  },
  {
   "cell_type": "code",
   "execution_count": 1,
   "id": "f4d3d747",
   "metadata": {},
   "outputs": [],
   "source": [
    "import sympy as sp\n",
    "from sympy import I"
   ]
  },
  {
   "cell_type": "markdown",
   "id": "f99cff98",
   "metadata": {},
   "source": [
    "# Define Pauli-Matrices"
   ]
  },
  {
   "cell_type": "code",
   "execution_count": 2,
   "id": "4c70253c",
   "metadata": {},
   "outputs": [],
   "source": [
    "X = sp.Matrix([[0,1],[1,0]])\n",
    "Y = sp.Matrix([[0,-I],[I,0]])\n",
    "Z = sp.Matrix([[1,0],[0,-1]])\n",
    "Id = sp.eye(2)"
   ]
  },
  {
   "cell_type": "markdown",
   "id": "12495355",
   "metadata": {},
   "source": [
    "# Two Level System Hamiltonian"
   ]
  },
  {
   "cell_type": "code",
   "execution_count": 3,
   "id": "156c99b6",
   "metadata": {},
   "outputs": [],
   "source": [
    "H0, Delta, V_re, V_im = sp.symbols('H0 Delta V_re V_im', real = True)\n",
    "H = H0*Id +V_re*X+V_im*Y+Delta*Z"
   ]
  },
  {
   "cell_type": "markdown",
   "id": "9130aede",
   "metadata": {},
   "source": [
    "# Rabi Oscillations"
   ]
  },
  {
   "cell_type": "code",
   "execution_count": 4,
   "id": "7514baf5",
   "metadata": {},
   "outputs": [],
   "source": [
    "H = H.subs({H0:0, Delta: 0, V_im :0})"
   ]
  },
  {
   "cell_type": "code",
   "execution_count": 5,
   "id": "636b2760",
   "metadata": {},
   "outputs": [],
   "source": [
    "t = sp.symbols('t', real = True)\n",
    "hbar = sp.symbols('hbar', real = True, positive = True)\n",
    "Ht = -H*I*t/hbar\n",
    "U = sp.simplify(Ht.exp())"
   ]
  },
  {
   "cell_type": "code",
   "execution_count": 6,
   "id": "35936771",
   "metadata": {},
   "outputs": [
    {
     "data": {
      "text/latex": [
       "$\\displaystyle \\left[\\begin{matrix}\\cos{\\left(\\frac{V_{re} t}{\\hbar} \\right)}\\end{matrix}\\right]$"
      ],
      "text/plain": [
       "Matrix([[cos(V_re*t/hbar)]])"
      ]
     },
     "execution_count": 6,
     "metadata": {},
     "output_type": "execute_result"
    }
   ],
   "source": [
    "psi0 = sp.Matrix([1,0])\n",
    "pop = psi0.T * U * psi0\n",
    "pop"
   ]
  },
  {
   "cell_type": "markdown",
   "id": "f7ebbedb",
   "metadata": {},
   "source": [
    "We the numerical application of the time-evolution operator in quantum mechanics using a simple Python implementation.\n",
    "We will consider a two-level system driven by a time-dependent Gaussian coupling."
   ]
  },
  {
   "cell_type": "markdown",
   "id": "6f9264c4",
   "metadata": {},
   "source": [
    "\n",
    "# Theoretical Background\n",
    " \n",
    " In quantum mechanics, the time evolution of a state vector |\\psi(t)\\rangle is governed by the time-dependent Schrödinger equation:\n",
    " \n",
    " $$\n",
    " i \\hbar \\frac{d}{dt} |\\psi(t)\\rangle = H(t) |\\psi(t)\\rangle\n",
    " $$\n",
    " \n",
    " For a small time step $ dt $, the solution can be approximated by applying the unitary time evolution operator:\n",
    " \n",
    " $$\n",
    " |\\psi(t + dt)\\rangle = e^{-i H(t) dt / \\hbar} |\\psi(t)\\rangle\n",
    " $$\n",
    " \n",
    " In the following, we set $ \\hbar = 1 $."
   ]
  },
  {
   "cell_type": "markdown",
   "id": "8bbaac9d",
   "metadata": {},
   "source": [
    "# The `MultiLevel` Class Implementation\n",
    " \n",
    " We implement a simple Python class to define and propagate quantum states in an N-level system.\n"
   ]
  },
  {
   "cell_type": "code",
   "execution_count": 7,
   "id": "e0684a8f",
   "metadata": {},
   "outputs": [],
   "source": [
    "import numpy as np\n",
    "import matplotlib.pyplot as plt"
   ]
  },
  {
   "cell_type": "code",
   "execution_count": 8,
   "id": "89cfbe8d",
   "metadata": {},
   "outputs": [],
   "source": [
    "import numpy as np\n",
    "from scipy.linalg import expm\n",
    "\n",
    "class MultiLevel:\n",
    "    def __init__(self, ndim=2):\n",
    "        self.ndim = ndim\n",
    "        self.h = np.zeros((ndim, ndim), dtype=complex)  \n",
    "        self.V = lambda t: np.zeros((ndim, ndim), dtype=complex)  \n",
    "        \n",
    "    def set_hamiltonian(self, diagonal):\n",
    "        np.fill_diagonal(self.h, diagonal)\n",
    "\n",
    "    def set_coupling(self, V_func):\n",
    "        self.V = V_func\n",
    "\n",
    "    def getH(self, t):\n",
    "        return self.h + self.V(t)\n",
    "\n",
    "    def propagate(self, psi0, dt, nstep):\n",
    "\n",
    "        psi0 = np.asarray(psi0, dtype=complex)\n",
    "        psi_t = np.zeros((nstep + 1, self.ndim), dtype=complex)\n",
    "        psi_t[0] = psi0\n",
    "\n",
    "        for i in range(1, nstep + 1):\n",
    "            t = (i - 1) * dt\n",
    "            H = self.getH(t)\n",
    "            U = expm(-1j * H * dt)\n",
    "            psi_t[i] = U @ psi_t[i - 1]\n",
    "\n",
    "        return psi_t\n"
   ]
  },
  {
   "cell_type": "markdown",
   "id": "765f6735",
   "metadata": {},
   "source": [
    "#  Two-Level System with time-dependent coupling modelling excitation with a Gaussian-shaped laser field\n",
    "\n",
    " Consider a two-level system with energies $ E_0 = 0 $, $ E_1 = \\Delta $, and a Gaussian coupling:\n",
    "\n",
    " $$\n",
    " V_{01}(t) = V_0 \\cdot \\exp\\left( -\\frac{(t - t_0)^2}{2 \\sigma^2} \\right)\\cos(\\omega t)\n",
    " $$\n",
    "\n"
   ]
  },
  {
   "cell_type": "markdown",
   "id": "cabf98c7",
   "metadata": {},
   "source": [
    "# System parameters\n"
   ]
  },
  {
   "cell_type": "code",
   "execution_count": 9,
   "id": "8f57ebed",
   "metadata": {},
   "outputs": [],
   "source": [
    "Delta = 1.0     # Energy difference\n",
    "V0 = 0.1        # Coupling strength\n",
    "sigma = 10.0     # Width of Gaussian\n",
    "t0 = 40.0       # Center of Gaussian\n",
    "omega = 1.0-.1     # Frequency of a light-field"
   ]
  },
  {
   "cell_type": "markdown",
   "id": "b716d246",
   "metadata": {},
   "source": [
    "# Time-dependent coupling\n"
   ]
  },
  {
   "cell_type": "code",
   "execution_count": 10,
   "id": "61489995",
   "metadata": {},
   "outputs": [],
   "source": [
    "coupling = lambda t: np.array([[0, V0 * np.exp(-((t - t0)**2) / (2 * sigma**2)) *np.cos(omega*t) ],\n",
    "                               [V0 * np.exp(-((t - t0)**2) / (2 * sigma**2))*np.cos(omega*t) , 0]], dtype=complex)\n"
   ]
  },
  {
   "cell_type": "markdown",
   "id": "3703a7e0",
   "metadata": {},
   "source": [
    "# Initialize system\n"
   ]
  },
  {
   "cell_type": "code",
   "execution_count": 11,
   "id": "4fc15535",
   "metadata": {},
   "outputs": [],
   "source": [
    "sys = MultiLevel(ndim=2)\n",
    "sys.set_hamiltonian([0, Delta])\n",
    "sys.set_coupling(coupling)\n",
    "psi0=np.array([1.0,0.0],dtype = complex)\n"
   ]
  },
  {
   "cell_type": "markdown",
   "id": "37558bd3",
   "metadata": {},
   "source": [
    "# Propagation"
   ]
  },
  {
   "cell_type": "code",
   "execution_count": 12,
   "id": "bc83a21c",
   "metadata": {},
   "outputs": [],
   "source": [
    "nstep = 1000\n",
    "dt = 0.1\n",
    "psi_t = sys.propagate(psi0, dt, nstep)"
   ]
  },
  {
   "cell_type": "markdown",
   "id": "1c6fff04",
   "metadata": {},
   "source": [
    "# Plot results"
   ]
  },
  {
   "cell_type": "code",
   "execution_count": 13,
   "id": "45d49990",
   "metadata": {},
   "outputs": [
    {
     "ename": "NameError",
     "evalue": "name 'psi' is not defined",
     "output_type": "error",
     "traceback": [
      "\u001b[0;31m---------------------------------------------------------------------------\u001b[0m",
      "\u001b[0;31mNameError\u001b[0m                                 Traceback (most recent call last)",
      "Cell \u001b[0;32mIn[13], line 1\u001b[0m\n\u001b[0;32m----> 1\u001b[0m pop \u001b[38;5;241m=\u001b[39m np\u001b[38;5;241m.\u001b[39mabs(\u001b[43mpsi\u001b[49m)\u001b[38;5;241m*\u001b[39m\u001b[38;5;241m*\u001b[39m\u001b[38;5;241m2\u001b[39m\n\u001b[1;32m      2\u001b[0m coh \u001b[38;5;241m=\u001b[39m np\u001b[38;5;241m.\u001b[39meinsum(\u001b[38;5;124m'\u001b[39m\u001b[38;5;124mti,tj->tij\u001b[39m\u001b[38;5;124m'\u001b[39m,psi_t\u001b[38;5;241m.\u001b[39mconj(),psi_t)\n\u001b[1;32m      3\u001b[0m time \u001b[38;5;241m=\u001b[39m np\u001b[38;5;241m.\u001b[39mlinspace(\u001b[38;5;241m0\u001b[39m,\u001b[38;5;241m100.0\u001b[39m,\u001b[38;5;241m1000\u001b[39m\u001b[38;5;241m+\u001b[39m\u001b[38;5;241m1\u001b[39m)\n",
      "\u001b[0;31mNameError\u001b[0m: name 'psi' is not defined"
     ]
    }
   ],
   "source": [
    "pop = np.abs(psi)**2\n",
    "coh = np.einsum('ti,tj->tij',psi_t.conj(),psi_t)\n",
    "time = np.linspace(0,100.0,1000+1)\n"
   ]
  },
  {
   "cell_type": "code",
   "execution_count": null,
   "id": "1b2dfe57",
   "metadata": {},
   "outputs": [],
   "source": [
    "plt.figure(figsize=(10, 6))\n",
    "plt.plot(time, pop[:,0], lw = 3.0, color = \"red\")\n",
    "plt.plot(time, pop[:,1], lw = 3.0, color = \"blue\")\n",
    "plt.plot(time, coh[:,0,1], \"--\")\n",
    "plt.xlabel('Time')\n",
    "plt.ylabel('Population')\n",
    "plt.title('Two-Level System Driven by Gaussian Coupling')\n",
    "plt.grid(True)"
   ]
  },
  {
   "cell_type": "markdown",
   "id": "e833145f",
   "metadata": {},
   "source": [
    "# Two-Pulse excitation"
   ]
  },
  {
   "cell_type": "code",
   "execution_count": null,
   "id": "9679c4c1",
   "metadata": {},
   "outputs": [],
   "source": [
    "Delta = 1.0     # Energy difference\n",
    "V0 = .1        # Coupling strength\n",
    "sigma = 10.0     # Width of Gaussian\n",
    "t0 = 20.0       # Center of Gaussian\n",
    "omega = 1.0     # Frequency of a light-field"
   ]
  },
  {
   "cell_type": "code",
   "execution_count": null,
   "id": "fba39201",
   "metadata": {},
   "outputs": [],
   "source": [
    "delay = 70\n",
    "def E1(t):\n",
    "    return V0 * np.exp(-((t - t0)**2) / (2 * sigma**2))*np.cos(omega*t)\n",
    "\n",
    "coupling = lambda t: np.array([[0, E1(t)+E1(t-delay)],[E1(t)+E1(t-delay), 0]], dtype=complex)"
   ]
  },
  {
   "cell_type": "code",
   "execution_count": null,
   "id": "70cb2b28",
   "metadata": {},
   "outputs": [],
   "source": [
    "sys2 = MultiLevel(ndim=2)\n",
    "sys2.set_hamiltonian([0, Delta])\n",
    "sys2.set_coupling(coupling)\n",
    "psi0=np.array([1.0,0.0],dtype = complex)"
   ]
  },
  {
   "cell_type": "code",
   "execution_count": null,
   "id": "1d2f10fe",
   "metadata": {},
   "outputs": [],
   "source": [
    "nstep = 1000\n",
    "dt = 0.1\n",
    "psi_t = sys2.propagate(psi0, dt, nstep)"
   ]
  },
  {
   "cell_type": "code",
   "execution_count": null,
   "id": "2a506e7e",
   "metadata": {},
   "outputs": [],
   "source": [
    "pop = np.abs(psi_t)**2\n",
    "coh = np.einsum('ti,tj->tij',psi_t.conj(),psi_t)\n",
    "time = np.linspace(0,100.0,1000+1)"
   ]
  },
  {
   "cell_type": "code",
   "execution_count": null,
   "id": "c16657e6",
   "metadata": {},
   "outputs": [],
   "source": [
    "plt.figure(figsize=(10, 6))\n",
    "plt.plot(time, pop[:,0], lw = 3.0, color = \"red\")\n",
    "plt.plot(time, pop[:,1], lw = 3.0, color = \"blue\")\n",
    "plt.plot(time, coh[:,0,1], \"--\")\n",
    "plt.xlabel('Time')\n",
    "plt.ylabel('Population')\n",
    "plt.title('Two-Level System Driven by Gaussian Coupling')\n",
    "plt.grid(True)"
   ]
  },
  {
   "cell_type": "code",
   "execution_count": 15,
   "id": "89c26be1",
   "metadata": {},
   "outputs": [],
   "source": [
    "class BixonJortner:\n",
    "    def __init__(self, Ei, Es, epsilon, V, N = 20):\n",
    "        self.Ei = Ei\n",
    "        self.Es = Es\n",
    "        self.alpha = self.Es-self.Ei\n",
    "        self.epsilon = epsilon\n",
    "        self.V = V\n",
    "        self.N = N\n",
    "\n",
    "    def plot(self):\n",
    "        plt.plot([0,1],[self.Ei,self.Ei], color = \"r\", lw = 3)\n",
    "        for i in range(-self.N, self.N + 1):\n",
    "            E = self.Es+i*self.epsilon\n",
    "            plt.plot([2,3],[E,E], color = \"blue\", lw = 1)\n",
    "        for state in self.e:\n",
    "            plt.plot([1,2],[state,state], color = \"green\", lw = 1)\n",
    "\n",
    "            \n",
    "    def get_hamiltonian(self):\n",
    "        self.continuum = np.array([self.Ei + self.alpha + i*self.epsilon for i in range(-self.N, self.N + 1)])\n",
    "        self.dim = 2*self.N + 2\n",
    "        self.h = np.zeros((self.dim, self.dim))\n",
    "        self.h[0,0] = self.Ei\n",
    "        self.h[0,1:] = self.V\n",
    "        self.h[1:,0] = self.V\n",
    "        self.h[1:,1:] = np.diag(self.continuum) \n",
    "    \n",
    "    def get_eigenstates(self):\n",
    "        self.e,self.psi = np.linalg.eigh(self.h)\n",
    "    \n",
    "    def propagate(self, dt, nstep):\n",
    "        psi0 = np.zeros(self.dim)\n",
    "        psi0[0] = 1.0\n",
    "        psi_t = np.zeros((nstep + 1, self.dim), dtype=complex)\n",
    "        U = expm(-1j * self.h * dt) \n",
    "        psi_t[0] = psi0\n",
    "\n",
    "        for i in range(1, nstep + 1):\n",
    "            psi_t[i] = U @ psi_t[i - 1]\n",
    "        return psi_t\n",
    "    "
   ]
  },
  {
   "cell_type": "code",
   "execution_count": 55,
   "id": "226e4c72",
   "metadata": {},
   "outputs": [],
   "source": [
    "epsilon = 0.002\n",
    "V = 5 * epsilon\n",
    "Ei = 100\n",
    "Es = 100\n",
    "bj = BixonJortner(Ei,Es,epsilon,V, N = 200)\n",
    "bj.get_hamiltonian()\n",
    "#bj.get_eigenstates()\n",
    "psi_t = bj.propagate(.1,10000)"
   ]
  },
  {
   "cell_type": "code",
   "execution_count": 56,
   "id": "c2a08eba",
   "metadata": {},
   "outputs": [
    {
     "data": {
      "text/plain": [
       "(0.0, 1000.0)"
      ]
     },
     "execution_count": 56,
     "metadata": {},
     "output_type": "execute_result"
    },
    {
     "data": {
      "image/png": "[encoded data removed]",
      "text/plain": [
       "<Figure size 640x480 with 1 Axes>"
      ]
     },
     "metadata": {},
     "output_type": "display_data"
    }
   ],
   "source": [
    "psi_i = psi_t[:,0]\n",
    "plt.plot(np.abs(psi_i)**2)\n",
    "plt.xlim(0,1000)"
   ]
  },
  {
   "cell_type": "code",
   "execution_count": null,
   "id": "a943ac30",
   "metadata": {},
   "outputs": [],
   "source": []
  }
 ],
 "metadata": {
  "kernelspec": {
   "display_name": "Python 3 (ipykernel)",
   "language": "python",
   "name": "python3"
  },
  "language_info": {
   "codemirror_mode": {
    "name": "ipython",
    "version": 3
   },
   "file_extension": ".py",
   "mimetype": "text/x-python",
   "name": "python",
   "nbconvert_exporter": "python",
   "pygments_lexer": "ipython3",
   "version": "3.10.9"
  }
 },
 "nbformat": 4,
 "nbformat_minor": 5
}
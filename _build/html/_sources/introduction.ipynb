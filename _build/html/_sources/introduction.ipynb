{
 "cells": [
  {
   "cell_type": "markdown",
   "id": "15c61785",
   "metadata": {},
   "source": [
    "This is a course on Quantum Dynamics for chemistry students at the master level. \n",
    "The requirements for this course are:\n",
    "1. The knowledge of quantum mechanics at the bachelor level (e. g. PC 1, Quantum Chemistry).\n",
    "2. Some Python programming skills are beneficial but not required"
   ]
  },
  {
   "cell_type": "code",
   "execution_count": null,
   "id": "0bfcd9cf",
   "metadata": {},
   "outputs": [],
   "source": []
  }
 ],
 "metadata": {
  "kernelspec": {
   "display_name": "Python 3 (ipykernel)",
   "language": "python",
   "name": "python3"
  },
  "language_info": {
   "codemirror_mode": {
    "name": "ipython",
    "version": 3
   },
   "file_extension": ".py",
   "mimetype": "text/x-python",
   "name": "python",
   "nbconvert_exporter": "python",
   "pygments_lexer": "ipython3",
   "version": "3.10.9"
  }
 },
 "nbformat": 4,
 "nbformat_minor": 5
}

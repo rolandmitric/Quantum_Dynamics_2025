{
 "cells": [
  {
   "cell_type": "markdown",
   "id": "c1589c79",
   "metadata": {},
   "source": [
    "# Coupled electron-nuclear dynamics in H$_2$ using s-type gaussian orbitals for electrons and nuclei"
   ]
  },
  {
   "cell_type": "markdown",
   "id": "238e0b6c",
   "metadata": {},
   "source": [
    "\n",
    "\n",
    "We describe the coupled electron-nuclear dynamics in H₂ using a fully quantum mechanical time-dependent wavefunction composed of s-type Gaussian orbitals with time-dependent centers and widths for both nuclei and electrons. Each nuclear orbital is given by $\\chi_A(\\vec{R}, t) = N_A(t) \\exp\\left[-\\alpha_A(t)(\\vec{R} - \\vec{R}_A(t))^2\\right]$, with normalization $N_A(t) = \\left(2\\alpha_A(t)/\\pi\\right)^{3/4}$, center $\\vec{R}_A(t)$, and width parameter $\\alpha_A(t)$. The two-nucleus system is described by a Hartree product $\\chi_A(\\vec{R}_A, t)\\chi_B(\\vec{R}_B, t)$. Each electronic orbital is similarly modeled as $\\phi_\\mu(\\vec{r}, t) = N_\\mu(t) \\exp\\left[-\\beta_\\mu(t)(\\vec{r} - \\vec{C}_\\mu(t))^2\\right]$, and the electronic wavefunction is a Slater determinant of two such orbitals. The total wavefunction $\\Psi(\\vec{R}_A, \\vec{R}_B, \\vec{r}_1, \\vec{r}_2, t)$ is constructed as the product of the nuclear orbitals and a normalized antisymmetric determinant of the electronic orbitals. To derive equations of motion for the variational parameters $\\{\\vec{R}_A, \\alpha_A, \\vec{R}_B, \\alpha_B, \\vec{C}_\\mu, \\beta_\\mu\\}$, we apply the Dirac-Frenkel time-dependent variational principle (TDVP), which imposes stationarity of the action $S = \\int dt \\langle \\Psi(t) | i\\partial_t - \\hat{H} | \\Psi(t) \\rangle$. This yields Euler–Lagrange equations for each parameter $q_i(t)$, namely $\\frac{d}{dt} \\left(\\partial L / \\partial \\dot{q}_i\\right) - \\partial L / \\partial q_i = 0$, where the Lagrangian $L(t) = i \\langle \\Psi | \\dot{\\Psi} \\rangle - \\langle \\Psi | \\hat{H} | \\Psi \\rangle$. The kinetic (Berry-phase) term $i \\langle \\Psi | \\dot{\\Psi} \\rangle$ gives rise to a symplectic form $\\mathcal{A}_{jk} = \\Im \\langle \\partial_{q_j} \\Psi | \\partial_{q_k} \\Psi \\rangle$, and the dynamics take the form $\\sum_k \\mathcal{A}_{jk} \\dot{q}_k = \\partial E / \\partial q_j$. The energy expectation value $E[\\vec{q}(t)]$ contains all relevant contributions—nuclear and electronic kinetic energies, electron-nuclear attraction, electron-electron repulsion, and nuclear-nuclear repulsion—and can be evaluated analytically using standard Gaussian integral techniques. The resulting first-order ODE system governs the coupled evolution of Gaussian centers and widths, allowing for a nonadiabatic description of vibrational and electronic dynamics in a compact, variationally controlled form.\n"
   ]
  },
  {
   "cell_type": "code",
   "execution_count": null,
   "id": "a20d3d4e",
   "metadata": {},
   "outputs": [],
   "source": []
  }
 ],
 "metadata": {
  "kernelspec": {
   "display_name": "Python 3 (ipykernel)",
   "language": "python",
   "name": "python3"
  },
  "language_info": {
   "codemirror_mode": {
    "name": "ipython",
    "version": 3
   },
   "file_extension": ".py",
   "mimetype": "text/x-python",
   "name": "python",
   "nbconvert_exporter": "python",
   "pygments_lexer": "ipython3",
   "version": "3.10.9"
  }
 },
 "nbformat": 4,
 "nbformat_minor": 5
}
